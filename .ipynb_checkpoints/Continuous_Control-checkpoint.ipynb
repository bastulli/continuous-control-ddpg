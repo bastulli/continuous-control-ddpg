{
 "cells": [
  {
   "cell_type": "markdown",
   "metadata": {},
   "source": [
    "# Continuous Control\n",
    "\n",
    "---\n",
    "\n",
    "In this notebook, you will learn how to use the Unity ML-Agents environment for the second project of the [Deep Reinforcement Learning Nanodegree](https://www.udacity.com/course/deep-reinforcement-learning-nanodegree--nd893) program.\n",
    "\n",
    "### 1. Start the Environment\n",
    "\n",
    "We begin by importing the necessary packages.  If the code cell below returns an error, please revisit the project instructions to double-check that you have installed [Unity ML-Agents](https://github.com/Unity-Technologies/ml-agents/blob/master/docs/Installation.md) and [NumPy](http://www.numpy.org/)."
   ]
  },
  {
   "cell_type": "code",
   "execution_count": 1,
   "metadata": {},
   "outputs": [],
   "source": [
    "from unityagents import UnityEnvironment\n",
    "import numpy as np\n",
    "from collections import deque\n",
    "import matplotlib.pyplot as plt\n",
    "import torch\n",
    "import time\n",
    "from datetime import timedelta\n",
    "%matplotlib inline"
   ]
  },
  {
   "cell_type": "markdown",
   "metadata": {},
   "source": [
    "Next, we will start the environment!  **_Before running the code cell below_**, change the `file_name` parameter to match the location of the Unity environment that you downloaded.\n",
    "\n",
    "- **Mac**: `\"path/to/Reacher.app\"`\n",
    "- **Windows** (x86): `\"path/to/Reacher_Windows_x86/Reacher.exe\"`\n",
    "- **Windows** (x86_64): `\"path/to/Reacher_Windows_x86_64/Reacher.exe\"`\n",
    "- **Linux** (x86): `\"path/to/Reacher_Linux/Reacher.x86\"`\n",
    "- **Linux** (x86_64): `\"path/to/Reacher_Linux/Reacher.x86_64\"`\n",
    "- **Linux** (x86, headless): `\"path/to/Reacher_Linux_NoVis/Reacher.x86\"`\n",
    "- **Linux** (x86_64, headless): `\"path/to/Reacher_Linux_NoVis/Reacher.x86_64\"`\n",
    "\n",
    "For instance, if you are using a Mac, then you downloaded `Reacher.app`.  If this file is in the same folder as the notebook, then the line below should appear as follows:\n",
    "```\n",
    "env = UnityEnvironment(file_name=\"Reacher.app\")\n",
    "```"
   ]
  },
  {
   "cell_type": "code",
   "execution_count": 2,
   "metadata": {
    "scrolled": true
   },
   "outputs": [
    {
     "name": "stderr",
     "output_type": "stream",
     "text": [
      "INFO:unityagents:\n",
      "'Academy' started successfully!\n",
      "Unity Academy name: Academy\n",
      "        Number of Brains: 1\n",
      "        Number of External Brains : 1\n",
      "        Lesson number : 0\n",
      "        Reset Parameters :\n",
      "\t\tgoal_speed -> 1.0\n",
      "\t\tgoal_size -> 5.0\n",
      "Unity brain name: ReacherBrain\n",
      "        Number of Visual Observations (per agent): 0\n",
      "        Vector Observation space type: continuous\n",
      "        Vector Observation space size (per agent): 33\n",
      "        Number of stacked Vector Observation: 1\n",
      "        Vector Action space type: continuous\n",
      "        Vector Action space size (per agent): 4\n",
      "        Vector Action descriptions: , , , \n"
     ]
    }
   ],
   "source": [
    "env = UnityEnvironment(file_name='/home/joe/Documents/Python/deep-reinforcement-learning/p2_continuous-control/Reacher_Linux/Reacher.x86_64')"
   ]
  },
  {
   "cell_type": "markdown",
   "metadata": {},
   "source": [
    "Environments contain **_brains_** which are responsible for deciding the actions of their associated agents. Here we check for the first brain available, and set it as the default brain we will be controlling from Python."
   ]
  },
  {
   "cell_type": "code",
   "execution_count": 3,
   "metadata": {},
   "outputs": [],
   "source": [
    "# get the default brain\n",
    "brain_name = env.brain_names[0]\n",
    "brain = env.brains[brain_name]"
   ]
  },
  {
   "cell_type": "markdown",
   "metadata": {},
   "source": [
    "### 2. Examine the State and Action Spaces\n",
    "\n",
    "In this environment, a double-jointed arm can move to target locations. A reward of `+0.1` is provided for each step that the agent's hand is in the goal location. Thus, the goal of your agent is to maintain its position at the target location for as many time steps as possible.\n",
    "\n",
    "The observation space consists of `33` variables corresponding to position, rotation, velocity, and angular velocities of the arm.  Each action is a vector with four numbers, corresponding to torque applicable to two joints.  Every entry in the action vector must be a number between `-1` and `1`.\n",
    "\n",
    "Run the code cell below to print some information about the environment."
   ]
  },
  {
   "cell_type": "code",
   "execution_count": 4,
   "metadata": {},
   "outputs": [
    {
     "name": "stdout",
     "output_type": "stream",
     "text": [
      "Number of agents: 20\n",
      "Size of each action: 4\n",
      "There are 20 agents. Each observes a state with length: 33\n",
      "The state for the first agent looks like: [ 0.00000000e+00 -4.00000000e+00  0.00000000e+00  1.00000000e+00\n",
      " -0.00000000e+00 -0.00000000e+00 -4.37113883e-08  0.00000000e+00\n",
      "  0.00000000e+00  0.00000000e+00  0.00000000e+00  0.00000000e+00\n",
      "  0.00000000e+00  0.00000000e+00 -1.00000000e+01  0.00000000e+00\n",
      "  1.00000000e+00 -0.00000000e+00 -0.00000000e+00 -4.37113883e-08\n",
      "  0.00000000e+00  0.00000000e+00  0.00000000e+00  0.00000000e+00\n",
      "  0.00000000e+00  0.00000000e+00  5.75471878e+00 -1.00000000e+00\n",
      "  5.55726624e+00  0.00000000e+00  1.00000000e+00  0.00000000e+00\n",
      " -1.68164849e-01]\n"
     ]
    }
   ],
   "source": [
    "# reset the environment\n",
    "env_info = env.reset(train_mode=True)[brain_name]\n",
    "\n",
    "# number of agents\n",
    "num_agents = len(env_info.agents)\n",
    "print('Number of agents:', num_agents)\n",
    "\n",
    "# size of each action\n",
    "action_size = brain.vector_action_space_size\n",
    "print('Size of each action:', action_size)\n",
    "\n",
    "# examine the state space \n",
    "states = env_info.vector_observations\n",
    "state_size = states.shape[1]\n",
    "print('There are {} agents. Each observes a state with length: {}'.format(states.shape[0], state_size))\n",
    "print('The state for the first agent looks like:', states[0])"
   ]
  },
  {
   "cell_type": "markdown",
   "metadata": {},
   "source": [
    "### 3. Take Random Actions in the Environment\n",
    "\n",
    "In the next code cell, you will learn how to use the Python API to control the agent and receive feedback from the environment.\n",
    "\n",
    "Once this cell is executed, you will watch the agent's performance, if it selects an action at random with each time step.  A window should pop up that allows you to observe the agent, as it moves through the environment.  \n",
    "\n",
    "Of course, as part of the project, you'll have to change the code so that the agent is able to use its experience to gradually choose better actions when interacting with the environment!"
   ]
  },
  {
   "cell_type": "code",
   "execution_count": 5,
   "metadata": {},
   "outputs": [
    {
     "name": "stdout",
     "output_type": "stream",
     "text": [
      "Total score (averaged over agents) this episode: 0.07249999837949872\n"
     ]
    }
   ],
   "source": [
    "env_info = env.reset(train_mode=False)[brain_name]     # reset the environment    \n",
    "states = env_info.vector_observations                  # get the current state (for each agent)\n",
    "scores = np.zeros(num_agents)                          # initialize the score (for each agent)\n",
    "while True:\n",
    "    actions = np.random.randn(num_agents, action_size) # select an action (for each agent)\n",
    "    actions = np.clip(actions, -1, 1)                  # all actions between -1 and 1\n",
    "    env_info = env.step(actions)[brain_name]           # send all actions to tne environment\n",
    "    next_states = env_info.vector_observations         # get next state (for each agent)\n",
    "    rewards = env_info.rewards                         # get reward (for each agent)\n",
    "    dones = env_info.local_done                        # see if episode finished\n",
    "    scores += env_info.rewards                         # update the score (for each agent)\n",
    "    states = next_states                               # roll over states to next time step\n",
    "    if np.any(dones):                                  # exit loop if episode finished\n",
    "        break\n",
    "print('Total score (averaged over agents) this episode: {}'.format(np.mean(scores)))"
   ]
  },
  {
   "cell_type": "markdown",
   "metadata": {},
   "source": [
    "### 4. It's Your Turn!\n",
    "\n",
    "Now it's your turn to train your own agent to solve the environment!  When training the environment, set `train_mode=True`, so that the line for resetting the environment looks like the following:\n",
    "```python\n",
    "env_info = env.reset(train_mode=True)[brain_name]\n",
    "```"
   ]
  },
  {
   "cell_type": "code",
   "execution_count": 6,
   "metadata": {},
   "outputs": [],
   "source": [
    "from ddpg_agent import Agent"
   ]
  },
  {
   "cell_type": "code",
   "execution_count": 7,
   "metadata": {},
   "outputs": [],
   "source": [
    "def ddpg(agent_tuple, n_episodes=800, max_t=1000, print_every=1, learn=True):\n",
    "\n",
    "    scores_deque = deque(maxlen=print_every)                    # keep last 100 scores (rolling window)\n",
    "    scores_episode = []                                         # init list to keep average scores\n",
    "    agents = [Agent(**agent_tuple) for _ in range(num_agents)]  # number of agents\n",
    "    print('\\rNum of agents = ' + str(len(agents)) + \"\\n\")\n",
    "    start_time = time.time()                                    # start time for printing\n",
    "    for i_episode in range(1, n_episodes + 1):\n",
    "\n",
    "        env_info = env.reset(train_mode=True)[brain_name]       # reset the environment\n",
    "        states = env_info.vector_observations                   # get the current state (for each agent)\n",
    "        scores = np.zeros(num_agents)                           # initialize the score (for each agent)\n",
    "\n",
    "        for agent in agents:                                    # reset each agent\n",
    "            agent.reset()\n",
    "\n",
    "        for step in range(max_t):\n",
    "\n",
    "            \"\"\"\n",
    "            # select an actions each agent\n",
    "            # send all actions to tne environment\n",
    "            # get next state (for each agent)\n",
    "            # get reward (for each agent)\n",
    "            # see if episode finished\n",
    "            # create tuple needed in for loop\n",
    "            # step, update replay memory and train\n",
    "            \"\"\"\n",
    "\n",
    "            #actions = [agent.act(states[i]) for i, agent in enumerate(agents)]\n",
    "            actions = np.array([agents[i].act(states[i]) for i in range(num_agents)])\n",
    "            env_info = env.step(actions)[brain_name]\n",
    "            next_states = env_info.vector_observations\n",
    "            rewards = env_info.rewards\n",
    "            dones = env_info.local_done\n",
    "\n",
    "            '''\n",
    "            For each agents (20), step & update state, action, reward, done\n",
    "            '''\n",
    "\n",
    "            for i in range(num_agents):\n",
    "                agents[i].step(states[i], actions[i], rewards[i], next_states[i], dones[i], step)\n",
    "\n",
    "            states = next_states                                # set states to new states\n",
    "            scores += rewards                                   # sets scores to cumulative rewards\n",
    "\n",
    "            # Print current data to see progress in realtime\n",
    "\n",
    "            print('\\rEpisode {}\\tTimestep {}\\tScore: {:.2f}\\tmin: {:.2f}\\tmax: {:.2f}'\n",
    "                  .format(i_episode, step, np.mean(scores), np.min(scores), np.max(scores)), end=\"\")\n",
    "\n",
    "            if np.any(dones):                                   # if done, break\n",
    "\n",
    "                break\n",
    "\n",
    "        score_avg = np.mean(scores)                             # append scores\n",
    "        scores_deque.append(score_avg)\n",
    "        scores_episode.append(score_avg)\n",
    "\n",
    "        if i_episode % print_every == 0:                        # check to print via modulus\n",
    "\n",
    "            str_time = str(timedelta(seconds=time.time() - start_time))   # measure elapsed time\n",
    "\n",
    "            print('\\rEpisode {}\\tAverage Score: {:.2f}\\tTime Elapsed: {}'\n",
    "                  .format(i_episode, np.mean(scores_deque), str_time), end=\"\\n\")\n",
    "\n",
    "        if np.mean(scores_deque) >= 30:           # print and break when average score above defined\n",
    "\n",
    "            str_time = str(timedelta(seconds=time.time() - start_time))   # measure elapsed time\n",
    "\n",
    "            print(\"\\r\\rEnviroment solved in @ i_episode={i_episode},\"\n",
    "                  \"w/ avg_score={avg:.2f}\\tTime Elapsed: {str_time}\\r\"\n",
    "                  .format(i_episode=i_episode, avg=np.mean(scores_deque), str_time=str_time))\n",
    "\n",
    "            # save models\n",
    "\n",
    "            torch.save(Agent.actor_local.state_dict(), 'checkpoint_actor.pth')\n",
    "            torch.save(Agent.critic_local.state_dict(), 'checkpoint_critic.pth')\n",
    "\n",
    "            break\n",
    "\n",
    "    return scores_episode"
   ]
  },
  {
   "cell_type": "code",
   "execution_count": 8,
   "metadata": {},
   "outputs": [
    {
     "name": "stdout",
     "output_type": "stream",
     "text": [
      "Num of agents = 20\n",
      "\n",
      "Episode 1\tAverage Score: 0.03\tTime Elapsed: 0:01:24.512136\n",
      "Episode 2\tAverage Score: 0.03\tTime Elapsed: 0:02:52.337461\n",
      "Episode 3\tAverage Score: 0.43\tTime Elapsed: 0:04:22.259527\n",
      "Episode 4\tAverage Score: 1.37\tTime Elapsed: 0:05:56.482927\n",
      "Episode 5\tAverage Score: 1.63\tTime Elapsed: 0:07:31.400696\n",
      "Episode 6\tAverage Score: 2.58\tTime Elapsed: 0:09:06.774196\n",
      "Episode 7\tAverage Score: 3.80\tTime Elapsed: 0:10:42.937751\n",
      "Episode 8\tAverage Score: 3.75\tTime Elapsed: 0:12:20.185153\n",
      "Episode 9\tAverage Score: 4.30\tTime Elapsed: 0:13:56.107559\n",
      "Episode 10\tAverage Score: 5.53\tTime Elapsed: 0:15:33.202189\n",
      "Episode 11\tAverage Score: 5.54\tTime Elapsed: 0:17:09.717007\n",
      "Episode 12\tAverage Score: 5.98\tTime Elapsed: 0:18:46.270303\n",
      "Episode 13\tAverage Score: 7.74\tTime Elapsed: 0:20:18.138066\n",
      "Episode 14\tAverage Score: 7.47\tTime Elapsed: 0:21:51.737249\n",
      "Episode 15\tAverage Score: 7.38\tTime Elapsed: 0:23:26.987739\n",
      "Episode 16\tAverage Score: 8.45\tTime Elapsed: 0:25:03.719945\n",
      "Episode 17\tAverage Score: 8.09\tTime Elapsed: 0:26:40.216913\n",
      "Episode 18\tAverage Score: 9.60\tTime Elapsed: 0:28:19.113274\n",
      "Episode 19\tAverage Score: 9.04\tTime Elapsed: 0:29:56.537442\n",
      "Episode 20\tAverage Score: 10.69\tTime Elapsed: 0:31:34.075410\n",
      "Episode 21\tAverage Score: 10.13\tTime Elapsed: 0:33:15.451407\n",
      "Episode 22\tAverage Score: 12.17\tTime Elapsed: 0:35:00.620147\n",
      "Episode 23\tAverage Score: 10.12\tTime Elapsed: 0:36:44.675586\n",
      "Episode 24\tAverage Score: 10.65\tTime Elapsed: 0:38:31.953301\n",
      "Episode 25\tAverage Score: 13.06\tTime Elapsed: 0:40:19.556231\n",
      "Episode 26\tAverage Score: 14.05\tTime Elapsed: 0:42:10.509130\n",
      "Episode 27\tAverage Score: 15.03\tTime Elapsed: 0:44:04.428235\n",
      "Episode 28\tAverage Score: 14.73\tTime Elapsed: 0:45:59.969619\n",
      "Episode 29\tAverage Score: 14.05\tTime Elapsed: 0:47:56.909410\n",
      "Episode 30\tAverage Score: 14.97\tTime Elapsed: 0:49:55.079442\n",
      "Episode 31\tAverage Score: 16.33\tTime Elapsed: 0:51:55.310701\n",
      "Episode 32\tAverage Score: 17.60\tTime Elapsed: 0:53:59.559128\n",
      "Episode 33\tAverage Score: 17.24\tTime Elapsed: 0:56:05.019629\n",
      "Episode 34\tAverage Score: 18.27\tTime Elapsed: 0:58:12.423485\n",
      "Episode 35\tAverage Score: 18.11\tTime Elapsed: 1:00:22.957271\n",
      "Episode 36\tAverage Score: 21.19\tTime Elapsed: 1:02:35.921596\n",
      "Episode 37\tAverage Score: 21.70\tTime Elapsed: 1:04:47.144310\n",
      "Episode 38\tAverage Score: 21.15\tTime Elapsed: 1:07:03.675115\n",
      "Episode 39\tAverage Score: 21.42\tTime Elapsed: 1:09:21.177106\n",
      "Episode 40\tAverage Score: 22.97\tTime Elapsed: 1:11:42.196886\n",
      "Episode 41\tAverage Score: 23.81\tTime Elapsed: 1:14:06.646164\n",
      "Episode 42\tAverage Score: 25.64\tTime Elapsed: 1:16:32.062075\n",
      "Episode 43\tAverage Score: 26.52\tTime Elapsed: 1:18:59.867160\n",
      "Episode 44\tAverage Score: 27.81\tTime Elapsed: 1:21:28.391970\n",
      "Episode 45\tAverage Score: 27.75\tTime Elapsed: 1:23:58.994952\n",
      "Episode 46\tAverage Score: 28.21\tTime Elapsed: 1:26:33.039451\n",
      "Episode 47\tAverage Score: 28.30\tTime Elapsed: 1:29:10.390359\n",
      "Episode 48\tAverage Score: 29.88\tTime Elapsed: 1:31:47.534779\n",
      "Episode 49\tAverage Score: 29.95\tTime Elapsed: 1:34:29.073316\n",
      "Episode 50\tAverage Score: 29.46\tTime Elapsed: 1:37:12.569621\n",
      "Episode 51\tAverage Score: 31.06\tTime Elapsed: 1:40:00.973036\n",
      "Enviroment solved in @ i_episode=51,w/ avg_score=31.06\tTime Elapsed: 1:40:00.973125\n"
     ]
    },
    {
     "data": {
      "image/png": "[encoded data removed]",
      "text/plain": [
       "<Figure size 432x288 with 1 Axes>"
      ]
     },
     "metadata": {
      "needs_background": "light"
     },
     "output_type": "display_data"
    }
   ],
   "source": [
    "\"\"\"    \n",
    "ddpg_agent.py init requires state size, action size, and a random seed\n",
    "Example: agent = Agent(state_size=3, action_size=1, random_seed=2)    \n",
    "In this project we have 20 agents asynchronously learning     \n",
    "Below, a tuple is created and used to establish the number of agents and actions    \n",
    "\"\"\"\n",
    "agent_tuple = {\"state_size\": state_size, \"action_size\": action_size, \"random_seed\": 2}\n",
    "scores = ddpg(agent_tuple)\n",
    "fig = plt.figure()\n",
    "ax = fig.add_subplot(111)\n",
    "plt.plot(np.arange(1, len(scores)+1), scores)\n",
    "plt.ylabel('Score')\n",
    "plt.xlabel('Episode #')\n",
    "plt.show()"
   ]
  },
  {
   "cell_type": "code",
   "execution_count": 11,
   "metadata": {},
   "outputs": [
    {
     "name": "stdout",
     "output_type": "stream",
     "text": [
      "Total score (averaged over agents) this episode: 29.17099934797734\n"
     ]
    }
   ],
   "source": [
    "#Load the weights from file\n",
    "\n",
    "agent = Agent(state_size=state_size, action_size=action_size, random_seed=2)\n",
    "\n",
    "agent.actor_local.load_state_dict(torch.load('checkpoint_actor.pth'))\n",
    "agent.critic_local.load_state_dict(torch.load('checkpoint_critic.pth'))\n",
    "\n",
    "env_info = env.reset(train_mode=False)[brain_name]     # reset the environment    \n",
    "states = env_info.vector_observations                  # get the current state (for each agent)\n",
    "scores = np.zeros(num_agents)                          # initialize the score (for each agent)\n",
    "\n",
    "while True:\n",
    "    actions = agent.act(states)\n",
    "    env_info = env.step(actions)[brain_name]           # send all actions to tne environment\n",
    "    next_states = env_info.vector_observations         # get next state (for each agent)\n",
    "    rewards = env_info.rewards                         # get reward (for each agent)\n",
    "    dones = env_info.local_done                        # see if episode finished\n",
    "    scores += env_info.rewards                         # update the score (for each agent)\n",
    "    states = next_states                               # roll over states to next time step\n",
    "    if np.any(dones):                                  # exit loop if episode finished\n",
    "        break\n",
    "print('Total score (averaged over agents) this episode: {}'.format(np.mean(scores)))"
   ]
  },
  {
   "cell_type": "markdown",
   "metadata": {},
   "source": [
    "When finished, you can close the environment."
   ]
  },
  {
   "cell_type": "code",
   "execution_count": 12,
   "metadata": {},
   "outputs": [],
   "source": [
    "env.close()"
   ]
  }
 ],
 "metadata": {
  "kernelspec": {
   "display_name": "drlnd",
   "language": "python",
   "name": "drlnd"
  },
  "language_info": {
   "codemirror_mode": {
    "name": "ipython",
    "version": 3
   },
   "file_extension": ".py",
   "mimetype": "text/x-python",
   "name": "python",
   "nbconvert_exporter": "python",
   "pygments_lexer": "ipython3",
   "version": "3.6.7"
  }
 },
 "nbformat": 4,
 "nbformat_minor": 2
}
